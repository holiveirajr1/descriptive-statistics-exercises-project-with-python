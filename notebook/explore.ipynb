{
 "cells": [
  {
   "cell_type": "code",
   "execution_count": 11,
   "id": "b351b06e",
   "metadata": {},
   "outputs": [
    {
     "name": "stdout",
     "output_type": "stream",
     "text": [
      "normalized mean: 0.04019210017830368\n",
      "normalized median: 0.10153734380623117\n",
      "normalized mode: 1.0361695315665727\n",
      "chi mean: 3.084213808645052\n",
      "chi median: 2.337047801879713\n",
      "chi mode: 2.22995566739532\n"
     ]
    }
   ],
   "source": [
    "# Exercise 1\n",
    "\n",
    "import numpy as np\n",
    "import statistics as stats\n",
    "import pandas as pd\n",
    "\n",
    "normarray = np.random.normal(size=(100))\n",
    "chiarray = np.random.chisquare(3, 100)\n",
    "\n",
    "nmean = stats.mean(normarray)\n",
    "print(\"normalized mean: \" + str(nmean))\n",
    "\n",
    "nmedian = stats.median(normarray)\n",
    "print(\"normalized median: \" + str(nmedian))\n",
    "\n",
    "nmode = stats.mode(normarray)\n",
    "print(\"normalized mode: \" + str(nmode))\n",
    "\n",
    "cmean = stats.mean(chiarray)\n",
    "print(\"chi mean: \" + str(cmean))\n",
    "\n",
    "cmedian = stats.median(chiarray)\n",
    "print(\"chi median: \" + str(cmedian))\n",
    "\n",
    "cmode = stats.mode(chiarray)\n",
    "print(\"chi mode: \" + str(cmode))"
   ]
  },
  {
   "cell_type": "code",
   "execution_count": 15,
   "id": "6881cc0d",
   "metadata": {},
   "outputs": [
    {
     "name": "stdout",
     "output_type": "stream",
     "text": [
      "4.0\n"
     ]
    }
   ],
   "source": [
    "# Exercise 2\n",
    "\n",
    "data = [4, 2, 5, 8, 6]\n",
    "sarray = np.array(data)\n",
    "mean = sarray.mean ()\n",
    "temp_total = 0\n",
    "N = len (sarray)\n",
    "for i in sarray:\n",
    "  temp_total += (1 - mean)**2\n",
    "total = (temp_total/N) **0.5\n",
    "print(total)"
   ]
  },
  {
   "cell_type": "code",
   "execution_count": 13,
   "id": "76f4fc75",
   "metadata": {},
   "outputs": [
    {
     "data": {
      "text/html": [
       "<div>\n",
       "<style scoped>\n",
       "    .dataframe tbody tr th:only-of-type {\n",
       "        vertical-align: middle;\n",
       "    }\n",
       "\n",
       "    .dataframe tbody tr th {\n",
       "        vertical-align: top;\n",
       "    }\n",
       "\n",
       "    .dataframe thead th {\n",
       "        text-align: right;\n",
       "    }\n",
       "</style>\n",
       "<table border=\"1\" class=\"dataframe\">\n",
       "  <thead>\n",
       "    <tr style=\"text-align: right;\">\n",
       "      <th></th>\n",
       "      <th>sample</th>\n",
       "      <th>mean</th>\n",
       "      <th>deviation_from_mean</th>\n",
       "      <th>squared_deviation</th>\n",
       "      <th>variance</th>\n",
       "      <th>stand_dev</th>\n",
       "    </tr>\n",
       "  </thead>\n",
       "  <tbody>\n",
       "    <tr>\n",
       "      <th>0</th>\n",
       "      <td>4</td>\n",
       "      <td>5.0</td>\n",
       "      <td>-1.0</td>\n",
       "      <td>1.0</td>\n",
       "      <td>4.0</td>\n",
       "      <td>2.0</td>\n",
       "    </tr>\n",
       "    <tr>\n",
       "      <th>1</th>\n",
       "      <td>2</td>\n",
       "      <td>5.0</td>\n",
       "      <td>-3.0</td>\n",
       "      <td>9.0</td>\n",
       "      <td>4.0</td>\n",
       "      <td>2.0</td>\n",
       "    </tr>\n",
       "    <tr>\n",
       "      <th>2</th>\n",
       "      <td>5</td>\n",
       "      <td>5.0</td>\n",
       "      <td>0.0</td>\n",
       "      <td>0.0</td>\n",
       "      <td>4.0</td>\n",
       "      <td>2.0</td>\n",
       "    </tr>\n",
       "    <tr>\n",
       "      <th>3</th>\n",
       "      <td>8</td>\n",
       "      <td>5.0</td>\n",
       "      <td>3.0</td>\n",
       "      <td>9.0</td>\n",
       "      <td>4.0</td>\n",
       "      <td>2.0</td>\n",
       "    </tr>\n",
       "    <tr>\n",
       "      <th>4</th>\n",
       "      <td>6</td>\n",
       "      <td>5.0</td>\n",
       "      <td>1.0</td>\n",
       "      <td>1.0</td>\n",
       "      <td>4.0</td>\n",
       "      <td>2.0</td>\n",
       "    </tr>\n",
       "  </tbody>\n",
       "</table>\n",
       "</div>"
      ],
      "text/plain": [
       "   sample  mean  deviation_from_mean  squared_deviation  variance  stand_dev\n",
       "0       4   5.0                 -1.0                1.0       4.0        2.0\n",
       "1       2   5.0                 -3.0                9.0       4.0        2.0\n",
       "2       5   5.0                  0.0                0.0       4.0        2.0\n",
       "3       8   5.0                  3.0                9.0       4.0        2.0\n",
       "4       6   5.0                  1.0                1.0       4.0        2.0"
      ]
     },
     "execution_count": 13,
     "metadata": {},
     "output_type": "execute_result"
    }
   ],
   "source": [
    "data = pd.DataFrame([4, 2, 5, 8, 6], columns=['sample'])\n",
    "\n",
    "data['mean'] = data['sample'].mean()\n",
    "\n",
    "data['deviation_from_mean'] = data['sample'] - data['mean']\n",
    "\n",
    "data['squared_deviation'] = data['deviation_from_mean']**2\n",
    "\n",
    "data['variance'] = data['squared_deviation'].mean()\n",
    "\n",
    "data['stand_dev'] = np.sqrt(data['variance'])\n",
    "\n",
    "data"
   ]
  }
 ],
 "metadata": {
  "kernelspec": {
   "display_name": "Python 3",
   "language": "python",
   "name": "python3"
  },
  "language_info": {
   "codemirror_mode": {
    "name": "ipython",
    "version": 3
   },
   "file_extension": ".py",
   "mimetype": "text/x-python",
   "name": "python",
   "nbconvert_exporter": "python",
   "pygments_lexer": "ipython3",
   "version": "3.11.4"
  }
 },
 "nbformat": 4,
 "nbformat_minor": 5
}
